{
  "nbformat": 4,
  "nbformat_minor": 0,
  "metadata": {
    "colab": {
      "provenance": [],
      "include_colab_link": true
    },
    "kernelspec": {
      "name": "python3",
      "display_name": "Python 3"
    },
    "language_info": {
      "name": "python"
    }
  },
  "cells": [
    {
      "cell_type": "markdown",
      "metadata": {
        "id": "view-in-github",
        "colab_type": "text"
      },
      "source": [
        "<a href=\"https://colab.research.google.com/github/harshaelon/AI_Agents/blob/main/Graph_RAG.ipynb\" target=\"_parent\"><img src=\"https://colab.research.google.com/assets/colab-badge.svg\" alt=\"Open In Colab\"/></a>"
      ]
    },
    {
      "cell_type": "code",
      "execution_count": null,
      "metadata": {
        "colab": {
          "base_uri": "https://localhost:8080/"
        },
        "id": "uSSfDUBtiwQA",
        "outputId": "e7c7679c-db77-4938-af69-afa6ea734c0a"
      },
      "outputs": [
        {
          "output_type": "stream",
          "name": "stdout",
          "text": [
            "\u001b[2K     \u001b[90m━━━━━━━━━━━━━━━━━━━━━━━━━━━━━━━━━━━━━━━━\u001b[0m \u001b[32m50.4/50.4 kB\u001b[0m \u001b[31m501.4 kB/s\u001b[0m eta \u001b[36m0:00:00\u001b[0m\n",
            "\u001b[2K   \u001b[90m━━━━━━━━━━━━━━━━━━━━━━━━━━━━━━━━━━━━━━━━\u001b[0m \u001b[32m399.9/399.9 kB\u001b[0m \u001b[31m12.0 MB/s\u001b[0m eta \u001b[36m0:00:00\u001b[0m\n",
            "\u001b[2K   \u001b[90m━━━━━━━━━━━━━━━━━━━━━━━━━━━━━━━━━━━━━━━━\u001b[0m \u001b[32m86.9/86.9 kB\u001b[0m \u001b[31m6.3 MB/s\u001b[0m eta \u001b[36m0:00:00\u001b[0m\n",
            "\u001b[2K   \u001b[90m━━━━━━━━━━━━━━━━━━━━━━━━━━━━━━━━━━━━━━━━\u001b[0m \u001b[32m206.9/206.9 kB\u001b[0m \u001b[31m12.2 MB/s\u001b[0m eta \u001b[36m0:00:00\u001b[0m\n",
            "\u001b[2K   \u001b[90m━━━━━━━━━━━━━━━━━━━━━━━━━━━━━━━━━━━━━━━━\u001b[0m \u001b[32m2.3/2.3 MB\u001b[0m \u001b[31m45.4 MB/s\u001b[0m eta \u001b[36m0:00:00\u001b[0m\n",
            "\u001b[2K   \u001b[90m━━━━━━━━━━━━━━━━━━━━━━━━━━━━━━━━━━━━━━━━\u001b[0m \u001b[32m130.5/130.5 kB\u001b[0m \u001b[31m8.8 MB/s\u001b[0m eta \u001b[36m0:00:00\u001b[0m\n",
            "\u001b[2K   \u001b[90m━━━━━━━━━━━━━━━━━━━━━━━━━━━━━━━━━━━━━━━━\u001b[0m \u001b[32m76.4/76.4 kB\u001b[0m \u001b[31m4.7 MB/s\u001b[0m eta \u001b[36m0:00:00\u001b[0m\n",
            "\u001b[2K   \u001b[90m━━━━━━━━━━━━━━━━━━━━━━━━━━━━━━━━━━━━━━━━\u001b[0m \u001b[32m77.9/77.9 kB\u001b[0m \u001b[31m3.0 MB/s\u001b[0m eta \u001b[36m0:00:00\u001b[0m\n",
            "\u001b[2K   \u001b[90m━━━━━━━━━━━━━━━━━━━━━━━━━━━━━━━━━━━━━━━━\u001b[0m \u001b[32m1.0/1.0 MB\u001b[0m \u001b[31m34.6 MB/s\u001b[0m eta \u001b[36m0:00:00\u001b[0m\n",
            "\u001b[2K   \u001b[90m━━━━━━━━━━━━━━━━━━━━━━━━━━━━━━━━━━━━━━━━\u001b[0m \u001b[32m290.2/290.2 kB\u001b[0m \u001b[31m16.2 MB/s\u001b[0m eta \u001b[36m0:00:00\u001b[0m\n",
            "\u001b[2K   \u001b[90m━━━━━━━━━━━━━━━━━━━━━━━━━━━━━━━━━━━━━━━━\u001b[0m \u001b[32m49.3/49.3 kB\u001b[0m \u001b[31m3.8 MB/s\u001b[0m eta \u001b[36m0:00:00\u001b[0m\n",
            "\u001b[2K   \u001b[90m━━━━━━━━━━━━━━━━━━━━━━━━━━━━━━━━━━━━━━━━\u001b[0m \u001b[32m141.9/141.9 kB\u001b[0m \u001b[31m10.4 MB/s\u001b[0m eta \u001b[36m0:00:00\u001b[0m\n",
            "\u001b[2K   \u001b[90m━━━━━━━━━━━━━━━━━━━━━━━━━━━━━━━━━━━━━━━━\u001b[0m \u001b[32m58.3/58.3 kB\u001b[0m \u001b[31m4.1 MB/s\u001b[0m eta \u001b[36m0:00:00\u001b[0m\n",
            "\u001b[?25h"
          ]
        }
      ],
      "source": [
        "!pip install --upgrade --quiet  json-repair networkx langchain-core langchain-google-vertexai langchain-experimental langchain-community"
      ]
    },
    {
      "cell_type": "code",
      "source": [
        "!pip install --upgrade --quiet  langchain langchain-community langchain-openai langchain-experimental neo4j"
      ],
      "metadata": {
        "colab": {
          "base_uri": "https://localhost:8080/"
        },
        "id": "bTSa2znztJM8",
        "outputId": "39c80913-c0e4-42e3-b044-779dd353b2ac"
      },
      "execution_count": null,
      "outputs": [
        {
          "output_type": "stream",
          "name": "stdout",
          "text": [
            "\u001b[?25l   \u001b[90m━━━━━━━━━━━━━━━━━━━━━━━━━━━━━━━━━━━━━━━━\u001b[0m \u001b[32m0.0/51.5 kB\u001b[0m \u001b[31m?\u001b[0m eta \u001b[36m-:--:--\u001b[0m\r\u001b[2K   \u001b[90m━━━━━━━━━━━━━━━━━━━━━━━━━━━━━━━━━━━━━━━━\u001b[0m \u001b[32m51.5/51.5 kB\u001b[0m \u001b[31m2.4 MB/s\u001b[0m eta \u001b[36m0:00:00\u001b[0m\n",
            "\u001b[?25h\u001b[?25l   \u001b[90m━━━━━━━━━━━━━━━━━━━━━━━━━━━━━━━━━━━━━━━━\u001b[0m \u001b[32m0.0/294.6 kB\u001b[0m \u001b[31m?\u001b[0m eta \u001b[36m-:--:--\u001b[0m\r\u001b[2K   \u001b[90m━━━━━━━━━━━━━━━━━━━━━━━━━━━━━━━━━━━━━━━━\u001b[0m \u001b[32m294.6/294.6 kB\u001b[0m \u001b[31m9.8 MB/s\u001b[0m eta \u001b[36m0:00:00\u001b[0m\n",
            "\u001b[?25h\u001b[?25l   \u001b[90m━━━━━━━━━━━━━━━━━━━━━━━━━━━━━━━━━━━━━━━━\u001b[0m \u001b[32m0.0/375.6 kB\u001b[0m \u001b[31m?\u001b[0m eta \u001b[36m-:--:--\u001b[0m\r\u001b[2K   \u001b[90m━━━━━━━━━━━━━━━━━━━━━━━━━━━━━━━━━━━━━━━━\u001b[0m \u001b[32m375.6/375.6 kB\u001b[0m \u001b[31m10.7 MB/s\u001b[0m eta \u001b[36m0:00:00\u001b[0m\n",
            "\u001b[2K   \u001b[90m━━━━━━━━━━━━━━━━━━━━━━━━━━━━━━━━━━━━━━━━\u001b[0m \u001b[32m1.1/1.1 MB\u001b[0m \u001b[31m26.4 MB/s\u001b[0m eta \u001b[36m0:00:00\u001b[0m\n",
            "\u001b[2K   \u001b[90m━━━━━━━━━━━━━━━━━━━━━━━━━━━━━━━━━━━━━━━━\u001b[0m \u001b[32m318.9/318.9 kB\u001b[0m \u001b[31m16.9 MB/s\u001b[0m eta \u001b[36m0:00:00\u001b[0m\n",
            "\u001b[?25h"
          ]
        }
      ]
    },
    {
      "cell_type": "code",
      "source": [
        "import getpass\n",
        "import os\n",
        "\n",
        "os.environ[\"OPENAI_API_KEY\"] = \"\"\n",
        "\n"
      ],
      "metadata": {
        "id": "lgjNUgTStNTG"
      },
      "execution_count": null,
      "outputs": []
    },
    {
      "cell_type": "code",
      "source": [],
      "metadata": {
        "id": "fS1kHG_9t9Rf"
      },
      "execution_count": null,
      "outputs": []
    },
    {
      "cell_type": "code",
      "source": [
        "import os\n",
        "\n",
        "from langchain_experimental.graph_transformers import LLMGraphTransformer\n",
        "from langchain_openai import ChatOpenAI\n",
        "\n",
        "llm = ChatOpenAI(temperature=0, model_name=\"gpt-4-turbo\")\n",
        "\n",
        "llm_transformer = LLMGraphTransformer(llm=llm)"
      ],
      "metadata": {
        "id": "PX_H1FntuIZu"
      },
      "execution_count": null,
      "outputs": []
    },
    {
      "cell_type": "code",
      "source": [
        "text_trial = \"\"\"Elon Musk, born on June 28, 1971, in Pretoria, South Africa, is a visionary entrepreneur and engineer known for founding and leading several groundbreaking companies. He moved to the United States to pursue higher education, attending the University of Pennsylvania, where he earned degrees in economics and physics. Musk briefly pursued a PhD at Stanford but dropped out to chase his entrepreneurial dreams during the rise of the internet boom.\n",
        "\n",
        "Musk's first notable success came with **Zip2**, a company providing business directories and maps for newspapers, which he co-founded in 1996 and sold for nearly $300 million. His next venture, **X.com**, was an online payment company that evolved into **PayPal**. When eBay acquired PayPal in 2002 for $1.5 billion, Musk's vision for revolutionizing industries only intensified.\n",
        "\n",
        "In 2002, Musk founded **SpaceX** (Space Exploration Technologies Corp.) with the ambitious goal of reducing space travel costs and making life multi-planetary. Under his leadership, SpaceX has achieved several milestones, including the first privately developed spacecraft to reach orbit and successfully land reusable rockets. SpaceX's **Falcon 9** rockets have revolutionized space travel by drastically reducing costs, and its **Starship** project aims to take humans to Mars.\n",
        "\n",
        "At the same time, Musk turned his attention to sustainable energy with **Tesla Motors**, which he joined in 2004 as chairman and later became CEO. Tesla has redefined the electric vehicle (EV) industry with its cutting-edge technology and stylish designs. Musk's leadership has positioned Tesla at the forefront of the EV revolution, with models like the **Model S**, **Model 3**, and **Cybertruck** pushing the boundaries of electric vehicle performance, range, and adoption. Tesla's **Gigafactories**, producing batteries at scale, further support Musk's vision of transitioning the world to renewable energy sources.\n",
        "\n",
        "In addition to Tesla and SpaceX, Musk co-founded **SolarCity** in 2006, a solar energy services company, which was later acquired by Tesla to integrate solar power and energy storage. Musk has also pursued other futuristic ventures, including **Neuralink**, a neurotechnology company aiming to create brain-machine interfaces, and **The Boring Company**, which seeks to solve urban traffic congestion through underground tunnels.\n",
        "\n",
        "Musk's philosophy is deeply rooted in **first principles thinking**, a method that deconstructs problems to their fundamental truths and builds solutions from there. This approach has helped him tackle complex issues in energy, transportation, and space exploration. While often controversial for his bold predictions, provocative statements, and unorthodox management style, Musk is admired for his resilience, relentless pursuit of innovation, and ability to inspire both investors and the public.\n",
        "\n",
        "A defining feature of Musk's approach is his willingness to **take risks**. Whether it was investing nearly his entire fortune into SpaceX and Tesla during their early struggles or pushing the boundaries of space travel and electric cars, Musk's visionary drive often puts him at odds with traditional thinking. His ventures, while highly innovative, have faced several challenges, including production delays at Tesla, technical failures at SpaceX, and regulatory hurdles for his tunnel-digging company.\n",
        "\n",
        "Yet, Musk continues to push forward. His work at SpaceX could pave the way for the **colonization of Mars**, while Tesla is not only a leader in EVs but also in **autonomous driving technology**. His **Hyperloop** concept, a high-speed transport system using low-pressure tubes, is another testament to his forward-thinking approach to solving transportation issues.\n",
        "\n",
        "As of today, Elon Musk's influence spans multiple industries, including space, energy, transportation, and AI, making him one of the most impactful and polarizing figures in modern technology and entrepreneurship. His vision of **creating a sustainable future** and **interplanetary existence** has captured the imagination of millions worldwide. Despite facing numerous challenges, Musk's drive and ambition continue to push the boundaries of what is possible\"\"\""
      ],
      "metadata": {
        "id": "BBeg6Yz9yKjg"
      },
      "execution_count": null,
      "outputs": []
    },
    {
      "cell_type": "code",
      "source": [
        "from langchain_core.documents import Document\n",
        "\n",
        "text1 = text_trial\n",
        "text = \"\"\"\n",
        "Marie Curie, born in 1867, was a Polish and naturalised-French physicist and chemist who conducted pioneering research on radioactivity.\n",
        "She was the first woman to win a Nobel Prize, the first person to win a Nobel Prize twice, and the only person to win a Nobel Prize in two scientific fields.\n",
        "Her husband, Pierre Curie, was a co-winner of her first Nobel Prize, making them the first-ever married couple to win the Nobel Prize and launching the Curie family legacy of five Nobel Prizes.\n",
        "She was, in 1906, the first woman to become a professor at the University of Paris.\n",
        "\"\"\"\n",
        "documents = [Document(page_content=text1)]\n",
        "graph_documents = llm_transformer.convert_to_graph_documents(documents)\n",
        "print(f\"Nodes:{graph_documents[0].nodes}\")\n",
        "print(f\"Relationships:{graph_documents[0].relationships}\")"
      ],
      "metadata": {
        "colab": {
          "base_uri": "https://localhost:8080/"
        },
        "id": "eA7MvcieuK2A",
        "outputId": "eb087fe3-262e-4114-e869-6ff26fd6af52"
      },
      "execution_count": null,
      "outputs": [
        {
          "output_type": "stream",
          "name": "stdout",
          "text": [
            "Nodes:[Node(id='Elon Musk', type='Person', properties={}), Node(id='Pretoria, South Africa', type='Location', properties={}), Node(id='University Of Pennsylvania', type='Organization', properties={}), Node(id='Stanford', type='Organization', properties={}), Node(id='Zip2', type='Organization', properties={}), Node(id='X.Com', type='Organization', properties={}), Node(id='Paypal', type='Organization', properties={}), Node(id='Spacex', type='Organization', properties={}), Node(id='Falcon 9', type='Product', properties={}), Node(id='Starship', type='Product', properties={}), Node(id='Tesla Motors', type='Organization', properties={}), Node(id='Model S', type='Product', properties={}), Node(id='Model 3', type='Product', properties={}), Node(id='Cybertruck', type='Product', properties={}), Node(id='Gigafactories', type='Product', properties={}), Node(id='Solarcity', type='Organization', properties={}), Node(id='Neuralink', type='Organization', properties={}), Node(id='The Boring Company', type='Organization', properties={}), Node(id='First Principles Thinking', type='Concept', properties={}), Node(id='Colonization Of Mars', type='Concept', properties={}), Node(id='Autonomous Driving Technology', type='Concept', properties={}), Node(id='Hyperloop', type='Product', properties={})]\n",
            "Relationships:[Relationship(source=Node(id='Elon Musk', type='Person', properties={}), target=Node(id='Pretoria, South Africa', type='Location', properties={}), type='BORN_IN', properties={}), Relationship(source=Node(id='Elon Musk', type='Person', properties={}), target=Node(id='University Of Pennsylvania', type='Organization', properties={}), type='ATTENDED', properties={}), Relationship(source=Node(id='Elon Musk', type='Person', properties={}), target=Node(id='Stanford', type='Organization', properties={}), type='ATTENDED', properties={}), Relationship(source=Node(id='Elon Musk', type='Person', properties={}), target=Node(id='Zip2', type='Organization', properties={}), type='FOUNDED', properties={}), Relationship(source=Node(id='Elon Musk', type='Person', properties={}), target=Node(id='X.Com', type='Organization', properties={}), type='FOUNDED', properties={}), Relationship(source=Node(id='Elon Musk', type='Person', properties={}), target=Node(id='Spacex', type='Organization', properties={}), type='FOUNDED', properties={}), Relationship(source=Node(id='Elon Musk', type='Person', properties={}), target=Node(id='Tesla Motors', type='Organization', properties={}), type='JOINED', properties={}), Relationship(source=Node(id='Elon Musk', type='Person', properties={}), target=Node(id='Solarcity', type='Organization', properties={}), type='FOUNDED', properties={}), Relationship(source=Node(id='Elon Musk', type='Person', properties={}), target=Node(id='Neuralink', type='Organization', properties={}), type='FOUNDED', properties={}), Relationship(source=Node(id='Elon Musk', type='Person', properties={}), target=Node(id='The Boring Company', type='Organization', properties={}), type='FOUNDED', properties={})]\n"
          ]
        }
      ]
    },
    {
      "cell_type": "markdown",
      "source": [
        "# With assigning nodes,"
      ],
      "metadata": {
        "id": "4p3ZiSLCu2_u"
      }
    },
    {
      "cell_type": "code",
      "source": [
        "llm_transformer_filtered = LLMGraphTransformer(\n",
        "    llm=llm,\n",
        "    allowed_nodes=[\"Person\", \"Country\", \"Organization\"],\n",
        "    allowed_relationships=[\"Founded\", \"Year\", \"Role\", \"Industry\"],\n",
        ")\n"
      ],
      "metadata": {
        "id": "RKCDWRhGuPYG"
      },
      "execution_count": null,
      "outputs": []
    },
    {
      "cell_type": "code",
      "source": [
        "graph_documents_filtered = llm_transformer_filtered.convert_to_graph_documents(\n",
        "    documents\n",
        ")\n"
      ],
      "metadata": {
        "id": "h8DdEFPpwNSL"
      },
      "execution_count": null,
      "outputs": []
    },
    {
      "cell_type": "code",
      "source": [
        "print(f\"Nodes:{graph_documents_filtered[0].nodes}\")\n",
        "print(f\"Relationships:{graph_documents_filtered[0].relationships}\")"
      ],
      "metadata": {
        "colab": {
          "base_uri": "https://localhost:8080/"
        },
        "id": "PI32W-yjy3cE",
        "outputId": "108478ca-78e4-4d4c-84ac-ae066418f0b0"
      },
      "execution_count": null,
      "outputs": [
        {
          "output_type": "stream",
          "name": "stdout",
          "text": [
            "Nodes:[Node(id='Elon Musk', type='Person', properties={}), Node(id='Pretoria', type='Country', properties={}), Node(id='South Africa', type='Country', properties={}), Node(id='United States', type='Country', properties={}), Node(id='University Of Pennsylvania', type='Organization', properties={}), Node(id='Stanford', type='Organization', properties={}), Node(id='Zip2', type='Organization', properties={}), Node(id='X.Com', type='Organization', properties={}), Node(id='Paypal', type='Organization', properties={}), Node(id='Spacex', type='Organization', properties={}), Node(id='Falcon 9', type='Organization', properties={}), Node(id='Starship', type='Organization', properties={}), Node(id='Tesla Motors', type='Organization', properties={}), Node(id='Model S', type='Organization', properties={}), Node(id='Model 3', type='Organization', properties={}), Node(id='Cybertruck', type='Organization', properties={}), Node(id='Gigafactories', type='Organization', properties={}), Node(id='Solarcity', type='Organization', properties={}), Node(id='Neuralink', type='Organization', properties={}), Node(id='The Boring Company', type='Organization', properties={})]\n",
            "Relationships:[Relationship(source=Node(id='Elon Musk', type='Person', properties={}), target=Node(id='Pretoria', type='Country', properties={}), type='YEAR', properties={}), Relationship(source=Node(id='Elon Musk', type='Person', properties={}), target=Node(id='South Africa', type='Country', properties={}), type='YEAR', properties={}), Relationship(source=Node(id='Elon Musk', type='Person', properties={}), target=Node(id='United States', type='Country', properties={}), type='YEAR', properties={}), Relationship(source=Node(id='Elon Musk', type='Person', properties={}), target=Node(id='University Of Pennsylvania', type='Organization', properties={}), type='YEAR', properties={}), Relationship(source=Node(id='Elon Musk', type='Person', properties={}), target=Node(id='Stanford', type='Organization', properties={}), type='YEAR', properties={}), Relationship(source=Node(id='Elon Musk', type='Person', properties={}), target=Node(id='Zip2', type='Organization', properties={}), type='FOUNDED', properties={}), Relationship(source=Node(id='Elon Musk', type='Person', properties={}), target=Node(id='X.Com', type='Organization', properties={}), type='FOUNDED', properties={}), Relationship(source=Node(id='Elon Musk', type='Person', properties={}), target=Node(id='Spacex', type='Organization', properties={}), type='FOUNDED', properties={}), Relationship(source=Node(id='Elon Musk', type='Person', properties={}), target=Node(id='Tesla Motors', type='Organization', properties={}), type='ROLE', properties={}), Relationship(source=Node(id='Elon Musk', type='Person', properties={}), target=Node(id='Solarcity', type='Organization', properties={}), type='FOUNDED', properties={}), Relationship(source=Node(id='Elon Musk', type='Person', properties={}), target=Node(id='Neuralink', type='Organization', properties={}), type='FOUNDED', properties={}), Relationship(source=Node(id='Elon Musk', type='Person', properties={}), target=Node(id='The Boring Company', type='Organization', properties={}), type='FOUNDED', properties={})]\n"
          ]
        }
      ]
    },
    {
      "cell_type": "code",
      "source": [
        "print(f\"Nodes:{graph_documents_filtered[0].nodes}\")\n",
        "print(f\"Relationships:{graph_documents_filtered[0].relationships}\")"
      ],
      "metadata": {
        "colab": {
          "base_uri": "https://localhost:8080/"
        },
        "id": "cCAOXRKzwO64",
        "outputId": "98c7cbda-8e0d-4b08-dd0e-23494eef573a"
      },
      "execution_count": null,
      "outputs": [
        {
          "output_type": "stream",
          "name": "stdout",
          "text": [
            "Nodes:[Node(id='Elon Musk', type='Person', properties={}), Node(id='Pretoria', type='Country', properties={}), Node(id='South Africa', type='Country', properties={}), Node(id='United States', type='Country', properties={}), Node(id='University Of Pennsylvania', type='Organization', properties={}), Node(id='Stanford', type='Organization', properties={}), Node(id='Zip2', type='Organization', properties={}), Node(id='X.Com', type='Organization', properties={}), Node(id='Paypal', type='Organization', properties={}), Node(id='Spacex', type='Organization', properties={}), Node(id='Falcon 9', type='Organization', properties={}), Node(id='Starship', type='Organization', properties={}), Node(id='Tesla Motors', type='Organization', properties={}), Node(id='Model S', type='Organization', properties={}), Node(id='Model 3', type='Organization', properties={}), Node(id='Cybertruck', type='Organization', properties={}), Node(id='Gigafactories', type='Organization', properties={}), Node(id='Solarcity', type='Organization', properties={}), Node(id='Neuralink', type='Organization', properties={}), Node(id='The Boring Company', type='Organization', properties={})]\n",
            "Relationships:[Relationship(source=Node(id='Elon Musk', type='Person', properties={}), target=Node(id='Pretoria', type='Country', properties={}), type='YEAR', properties={}), Relationship(source=Node(id='Elon Musk', type='Person', properties={}), target=Node(id='South Africa', type='Country', properties={}), type='YEAR', properties={}), Relationship(source=Node(id='Elon Musk', type='Person', properties={}), target=Node(id='United States', type='Country', properties={}), type='YEAR', properties={}), Relationship(source=Node(id='Elon Musk', type='Person', properties={}), target=Node(id='University Of Pennsylvania', type='Organization', properties={}), type='YEAR', properties={}), Relationship(source=Node(id='Elon Musk', type='Person', properties={}), target=Node(id='Stanford', type='Organization', properties={}), type='YEAR', properties={}), Relationship(source=Node(id='Elon Musk', type='Person', properties={}), target=Node(id='Zip2', type='Organization', properties={}), type='FOUNDED', properties={}), Relationship(source=Node(id='Elon Musk', type='Person', properties={}), target=Node(id='X.Com', type='Organization', properties={}), type='FOUNDED', properties={}), Relationship(source=Node(id='Elon Musk', type='Person', properties={}), target=Node(id='Spacex', type='Organization', properties={}), type='FOUNDED', properties={}), Relationship(source=Node(id='Elon Musk', type='Person', properties={}), target=Node(id='Tesla Motors', type='Organization', properties={}), type='ROLE', properties={}), Relationship(source=Node(id='Elon Musk', type='Person', properties={}), target=Node(id='Solarcity', type='Organization', properties={}), type='FOUNDED', properties={}), Relationship(source=Node(id='Elon Musk', type='Person', properties={}), target=Node(id='Neuralink', type='Organization', properties={}), type='FOUNDED', properties={}), Relationship(source=Node(id='Elon Musk', type='Person', properties={}), target=Node(id='The Boring Company', type='Organization', properties={}), type='FOUNDED', properties={})]\n"
          ]
        }
      ]
    },
    {
      "cell_type": "code",
      "source": [
        "llm_transformer_props = LLMGraphTransformer(\n",
        "    llm=llm,\n",
        "    allowed_nodes=[\"Person\", \"Country\", \"Organization\"],\n",
        "    allowed_relationships=[\"NATIONALITY\", \"LOCATED_IN\", \"WORKED_AT\", \"SPOUSE\"],\n",
        "    node_properties=[\"born_year\"],\n",
        ")\n"
      ],
      "metadata": {
        "id": "vItFzSIJuU-7"
      },
      "execution_count": null,
      "outputs": []
    },
    {
      "cell_type": "code",
      "source": [
        "import pandas as pd"
      ],
      "metadata": {
        "id": "Tcm2qwvqfkJA"
      },
      "execution_count": null,
      "outputs": []
    },
    {
      "cell_type": "code",
      "source": [
        "df = pd.read_csv('/content/friends_episodes_v2.csv')"
      ],
      "metadata": {
        "id": "LX6iyHFyuYbf"
      },
      "execution_count": null,
      "outputs": []
    },
    {
      "cell_type": "code",
      "source": [],
      "metadata": {
        "id": "aYhkDzvGgeRl"
      },
      "execution_count": null,
      "outputs": []
    },
    {
      "cell_type": "code",
      "source": [
        "def recommend(x):\n",
        "  if x<7.5 :\n",
        "    return \" not such good\"\n",
        "  elif x<8.0 :\n",
        "    return \"good\"\n",
        "  else:\n",
        "    return \"very good\"\n",
        "\n",
        "df['Stars'] = df.apply(lambda x:recommend(x['Stars']),axis=1 )\n"
      ],
      "metadata": {
        "id": "79wMWvJbfmga"
      },
      "execution_count": null,
      "outputs": []
    },
    {
      "cell_type": "code",
      "source": [
        "from langchain_community.graphs.networkx_graph import NetworkxEntityGraph\n",
        "\n",
        "from langchain.chains import GraphQAChain"
      ],
      "metadata": {
        "id": "OiLeFodBg6SB"
      },
      "execution_count": null,
      "outputs": []
    },
    {
      "cell_type": "code",
      "source": [
        "graph = NetworkxEntityGraph()\n",
        "\n",
        "\n",
        "for id,row in df.iterrows():\n",
        "  graph.add_node(row['Episode_Title'])\n",
        "  graph.add_node(row['Stars'])\n",
        "  graph.add_node(row['Summary'])\n",
        "  graph.add_node(row['Director'])\n",
        "\n",
        "\n",
        "for id,row in df.iterrows():\n",
        "  graph._graph.add_edge(\n",
        "      row['Episode_Title'],\n",
        "      #row['Director'],\n",
        "      row['Summary'],\n",
        "      relation=row[\"Director\"],\n",
        "\n",
        "      )\n",
        "  graph._graph.add_edge(\n",
        "      row['Episode_Title'],\n",
        "      #row['Director'],\n",
        "      row['Director'],\n",
        "      relation=row[\"Summary\"],\n",
        "\n",
        "      )\n",
        "\n",
        "\n",
        "\n"
      ],
      "metadata": {
        "id": "uP7w0mf3gv0h"
      },
      "execution_count": null,
      "outputs": []
    },
    {
      "cell_type": "code",
      "source": [
        "chain = GraphQAChain.from_llm(llm=llm,graph=graph,verbose=True)"
      ],
      "metadata": {
        "id": "tD98Iz4xiBUG"
      },
      "execution_count": null,
      "outputs": []
    },
    {
      "cell_type": "code",
      "source": [
        "question = \"\"\"Director of  the last one?\"\"\"\n",
        "\n",
        "chain.run(question)"
      ],
      "metadata": {
        "colab": {
          "base_uri": "https://localhost:8080/",
          "height": 157
        },
        "id": "h0tves_Pi4K9",
        "outputId": "e3d8347c-4cf9-4d22-c930-31051612c7c4"
      },
      "execution_count": null,
      "outputs": [
        {
          "output_type": "stream",
          "name": "stderr",
          "text": [
            "WARNING:langchain_core.callbacks.manager:Error in StdOutCallbackHandler.on_chain_start callback: AttributeError(\"'NoneType' object has no attribute 'get'\")\n"
          ]
        },
        {
          "output_type": "stream",
          "name": "stdout",
          "text": [
            "Entities Extracted:\n",
            "\u001b[32;1m\u001b[1;3mNONE\u001b[0m\n",
            "Full Context:\n",
            "\u001b[32;1m\u001b[1;3m\u001b[0m\n",
            "\n",
            "\u001b[1m> Finished chain.\u001b[0m\n"
          ]
        },
        {
          "output_type": "execute_result",
          "data": {
            "text/plain": [
              "\"I don't know the answer based on the information provided.\""
            ],
            "application/vnd.google.colaboratory.intrinsic+json": {
              "type": "string"
            }
          },
          "metadata": {},
          "execution_count": 35
        }
      ]
    },
    {
      "cell_type": "code",
      "source": [
        "import pandas as pd"
      ],
      "metadata": {
        "id": "yx5y9e2lh1lt"
      },
      "execution_count": null,
      "outputs": []
    },
    {
      "cell_type": "code",
      "source": [],
      "metadata": {
        "id": "KSLR5E53i-sk",
        "colab": {
          "base_uri": "https://localhost:8080/",
          "height": 35
        },
        "outputId": "6c2f8155-9391-4a4f-91ed-55ea0025ebcc"
      },
      "execution_count": null,
      "outputs": [
        {
          "output_type": "execute_result",
          "data": {
            "text/plain": [
              "'/content/sample_data/apache_query.xlsx'"
            ],
            "application/vnd.google.colaboratory.intrinsic+json": {
              "type": "string"
            }
          },
          "metadata": {},
          "execution_count": 3
        }
      ]
    },
    {
      "cell_type": "code",
      "source": [],
      "metadata": {
        "id": "Vp-PFlJciEd5"
      },
      "execution_count": null,
      "outputs": []
    }
  ]
}