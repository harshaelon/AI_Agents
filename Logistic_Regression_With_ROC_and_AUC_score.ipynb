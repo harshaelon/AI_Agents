{
  "nbformat": 4,
  "nbformat_minor": 0,
  "metadata": {
    "colab": {
      "provenance": [],
      "authorship_tag": "ABX9TyPcPrNPdK8fSqI15kn/AknS",
      "include_colab_link": true
    },
    "kernelspec": {
      "name": "python3",
      "display_name": "Python 3"
    },
    "language_info": {
      "name": "python"
    }
  },
  "cells": [
    {
      "cell_type": "markdown",
      "metadata": {
        "id": "view-in-github",
        "colab_type": "text"
      },
      "source": [
        "<a href=\"https://colab.research.google.com/github/harshaelon/AI_Agents/blob/main/Logistic_Regression_With_ROC_and_AUC_score.ipynb\" target=\"_parent\"><img src=\"https://colab.research.google.com/assets/colab-badge.svg\" alt=\"Open In Colab\"/></a>"
      ]
    },
    {
      "cell_type": "code",
      "execution_count": null,
      "metadata": {
        "id": "IDgMKzJJ8igW"
      },
      "outputs": [],
      "source": [
        "import pandas as pd\n",
        "\n",
        "import numpy as np\n",
        "\n",
        "import matplotlib.pyplot as plt\n",
        "\n",
        "import seaborn as sns\n",
        "\n",
        "%matplotlib inline"
      ]
    },
    {
      "cell_type": "code",
      "source": [
        "from sklearn.datasets import make_classification\n",
        "\n",
        "from sklearn.linear_model import LogisticRegression\n",
        "\n",
        "from sklearn.model_selection import train_test_split\n",
        "\n",
        "from sklearn.metrics import roc_auc_score , roc_curve"
      ],
      "metadata": {
        "id": "q31pLPhk8uJx"
      },
      "execution_count": null,
      "outputs": []
    },
    {
      "cell_type": "markdown",
      "source": [
        "#Creating a dataset"
      ],
      "metadata": {
        "id": "3ljWTd9192oZ"
      }
    },
    {
      "cell_type": "code",
      "source": [
        "X,y = make_classification(n_samples=1000,n_classes=2,random_state = 1)"
      ],
      "metadata": {
        "id": "wzwxcJi59G5H"
      },
      "execution_count": null,
      "outputs": []
    },
    {
      "cell_type": "code",
      "source": [
        "from sklearn.model_selection import train_test_split"
      ],
      "metadata": {
        "id": "TQKtubDr9e-k"
      },
      "execution_count": null,
      "outputs": []
    },
    {
      "cell_type": "code",
      "source": [
        "X_train,X_test,y_train,y_test = train_test_split(X,y,test_size=0.25 , random_state=42)"
      ],
      "metadata": {
        "id": "xLzI7kdK9ldr"
      },
      "execution_count": null,
      "outputs": []
    },
    {
      "cell_type": "code",
      "source": [
        "np.size(y_test)"
      ],
      "metadata": {
        "colab": {
          "base_uri": "https://localhost:8080/"
        },
        "id": "hdRFavt0WcjT",
        "outputId": "a60221aa-ff96-49f5-fbc5-bccdde596571"
      },
      "execution_count": null,
      "outputs": [
        {
          "output_type": "execute_result",
          "data": {
            "text/plain": [
              "250"
            ]
          },
          "metadata": {},
          "execution_count": 18
        }
      ]
    },
    {
      "cell_type": "markdown",
      "source": [
        "#Creating a dummy variable"
      ],
      "metadata": {
        "id": "haRyaXII96hM"
      }
    },
    {
      "cell_type": "code",
      "source": [
        "d1_prob = [0 for _ in range(len(y_test))]\n",
        "\n",
        "d1_prob"
      ],
      "metadata": {
        "colab": {
          "base_uri": "https://localhost:8080/"
        },
        "id": "jz3_l0aw9tM0",
        "outputId": "51b505ed-a97e-48c2-fe39-1de3f77ad171"
      },
      "execution_count": null,
      "outputs": [
        {
          "output_type": "execute_result",
          "data": {
            "text/plain": [
              "[0,\n",
              " 0,\n",
              " 0,\n",
              " 0,\n",
              " 0,\n",
              " 0,\n",
              " 0,\n",
              " 0,\n",
              " 0,\n",
              " 0,\n",
              " 0,\n",
              " 0,\n",
              " 0,\n",
              " 0,\n",
              " 0,\n",
              " 0,\n",
              " 0,\n",
              " 0,\n",
              " 0,\n",
              " 0,\n",
              " 0,\n",
              " 0,\n",
              " 0,\n",
              " 0,\n",
              " 0,\n",
              " 0,\n",
              " 0,\n",
              " 0,\n",
              " 0,\n",
              " 0,\n",
              " 0,\n",
              " 0,\n",
              " 0,\n",
              " 0,\n",
              " 0,\n",
              " 0,\n",
              " 0,\n",
              " 0,\n",
              " 0,\n",
              " 0,\n",
              " 0,\n",
              " 0,\n",
              " 0,\n",
              " 0,\n",
              " 0,\n",
              " 0,\n",
              " 0,\n",
              " 0,\n",
              " 0,\n",
              " 0,\n",
              " 0,\n",
              " 0,\n",
              " 0,\n",
              " 0,\n",
              " 0,\n",
              " 0,\n",
              " 0,\n",
              " 0,\n",
              " 0,\n",
              " 0,\n",
              " 0,\n",
              " 0,\n",
              " 0,\n",
              " 0,\n",
              " 0,\n",
              " 0,\n",
              " 0,\n",
              " 0,\n",
              " 0,\n",
              " 0,\n",
              " 0,\n",
              " 0,\n",
              " 0,\n",
              " 0,\n",
              " 0,\n",
              " 0,\n",
              " 0,\n",
              " 0,\n",
              " 0,\n",
              " 0,\n",
              " 0,\n",
              " 0,\n",
              " 0,\n",
              " 0,\n",
              " 0,\n",
              " 0,\n",
              " 0,\n",
              " 0,\n",
              " 0,\n",
              " 0,\n",
              " 0,\n",
              " 0,\n",
              " 0,\n",
              " 0,\n",
              " 0,\n",
              " 0,\n",
              " 0,\n",
              " 0,\n",
              " 0,\n",
              " 0,\n",
              " 0,\n",
              " 0,\n",
              " 0,\n",
              " 0,\n",
              " 0,\n",
              " 0,\n",
              " 0,\n",
              " 0,\n",
              " 0,\n",
              " 0,\n",
              " 0,\n",
              " 0,\n",
              " 0,\n",
              " 0,\n",
              " 0,\n",
              " 0,\n",
              " 0,\n",
              " 0,\n",
              " 0,\n",
              " 0,\n",
              " 0,\n",
              " 0,\n",
              " 0,\n",
              " 0,\n",
              " 0,\n",
              " 0,\n",
              " 0,\n",
              " 0,\n",
              " 0,\n",
              " 0,\n",
              " 0,\n",
              " 0,\n",
              " 0,\n",
              " 0,\n",
              " 0,\n",
              " 0,\n",
              " 0,\n",
              " 0,\n",
              " 0,\n",
              " 0,\n",
              " 0,\n",
              " 0,\n",
              " 0,\n",
              " 0,\n",
              " 0,\n",
              " 0,\n",
              " 0,\n",
              " 0,\n",
              " 0,\n",
              " 0,\n",
              " 0,\n",
              " 0,\n",
              " 0,\n",
              " 0,\n",
              " 0,\n",
              " 0,\n",
              " 0,\n",
              " 0,\n",
              " 0,\n",
              " 0,\n",
              " 0,\n",
              " 0,\n",
              " 0,\n",
              " 0,\n",
              " 0,\n",
              " 0,\n",
              " 0,\n",
              " 0,\n",
              " 0,\n",
              " 0,\n",
              " 0,\n",
              " 0,\n",
              " 0,\n",
              " 0,\n",
              " 0,\n",
              " 0,\n",
              " 0,\n",
              " 0,\n",
              " 0,\n",
              " 0,\n",
              " 0,\n",
              " 0,\n",
              " 0,\n",
              " 0,\n",
              " 0,\n",
              " 0,\n",
              " 0,\n",
              " 0,\n",
              " 0,\n",
              " 0,\n",
              " 0,\n",
              " 0,\n",
              " 0,\n",
              " 0,\n",
              " 0,\n",
              " 0,\n",
              " 0,\n",
              " 0,\n",
              " 0,\n",
              " 0,\n",
              " 0,\n",
              " 0,\n",
              " 0,\n",
              " 0,\n",
              " 0,\n",
              " 0,\n",
              " 0,\n",
              " 0,\n",
              " 0,\n",
              " 0,\n",
              " 0,\n",
              " 0,\n",
              " 0,\n",
              " 0,\n",
              " 0,\n",
              " 0,\n",
              " 0,\n",
              " 0,\n",
              " 0,\n",
              " 0,\n",
              " 0,\n",
              " 0,\n",
              " 0,\n",
              " 0,\n",
              " 0,\n",
              " 0,\n",
              " 0,\n",
              " 0,\n",
              " 0,\n",
              " 0,\n",
              " 0,\n",
              " 0,\n",
              " 0,\n",
              " 0,\n",
              " 0,\n",
              " 0,\n",
              " 0,\n",
              " 0,\n",
              " 0,\n",
              " 0,\n",
              " 0,\n",
              " 0,\n",
              " 0,\n",
              " 0,\n",
              " 0,\n",
              " 0,\n",
              " 0,\n",
              " 0,\n",
              " 0,\n",
              " 0]"
            ]
          },
          "metadata": {},
          "execution_count": 6
        }
      ]
    },
    {
      "cell_type": "markdown",
      "source": [
        "# Creating a basic logistic regression model"
      ],
      "metadata": {
        "id": "HKAvG-iq-M_3"
      }
    },
    {
      "cell_type": "code",
      "source": [
        "model = LogisticRegression()\n",
        "\n",
        "model.fit(X_train,y_train)"
      ],
      "metadata": {
        "colab": {
          "base_uri": "https://localhost:8080/",
          "height": 74
        },
        "id": "NPJA1c4j9zvk",
        "outputId": "65313fc8-2383-4e39-a577-c6bf4a627ae4"
      },
      "execution_count": null,
      "outputs": [
        {
          "output_type": "execute_result",
          "data": {
            "text/plain": [
              "LogisticRegression()"
            ],
            "text/html": [
              "<style>#sk-container-id-1 {color: black;}#sk-container-id-1 pre{padding: 0;}#sk-container-id-1 div.sk-toggleable {background-color: white;}#sk-container-id-1 label.sk-toggleable__label {cursor: pointer;display: block;width: 100%;margin-bottom: 0;padding: 0.3em;box-sizing: border-box;text-align: center;}#sk-container-id-1 label.sk-toggleable__label-arrow:before {content: \"▸\";float: left;margin-right: 0.25em;color: #696969;}#sk-container-id-1 label.sk-toggleable__label-arrow:hover:before {color: black;}#sk-container-id-1 div.sk-estimator:hover label.sk-toggleable__label-arrow:before {color: black;}#sk-container-id-1 div.sk-toggleable__content {max-height: 0;max-width: 0;overflow: hidden;text-align: left;background-color: #f0f8ff;}#sk-container-id-1 div.sk-toggleable__content pre {margin: 0.2em;color: black;border-radius: 0.25em;background-color: #f0f8ff;}#sk-container-id-1 input.sk-toggleable__control:checked~div.sk-toggleable__content {max-height: 200px;max-width: 100%;overflow: auto;}#sk-container-id-1 input.sk-toggleable__control:checked~label.sk-toggleable__label-arrow:before {content: \"▾\";}#sk-container-id-1 div.sk-estimator input.sk-toggleable__control:checked~label.sk-toggleable__label {background-color: #d4ebff;}#sk-container-id-1 div.sk-label input.sk-toggleable__control:checked~label.sk-toggleable__label {background-color: #d4ebff;}#sk-container-id-1 input.sk-hidden--visually {border: 0;clip: rect(1px 1px 1px 1px);clip: rect(1px, 1px, 1px, 1px);height: 1px;margin: -1px;overflow: hidden;padding: 0;position: absolute;width: 1px;}#sk-container-id-1 div.sk-estimator {font-family: monospace;background-color: #f0f8ff;border: 1px dotted black;border-radius: 0.25em;box-sizing: border-box;margin-bottom: 0.5em;}#sk-container-id-1 div.sk-estimator:hover {background-color: #d4ebff;}#sk-container-id-1 div.sk-parallel-item::after {content: \"\";width: 100%;border-bottom: 1px solid gray;flex-grow: 1;}#sk-container-id-1 div.sk-label:hover label.sk-toggleable__label {background-color: #d4ebff;}#sk-container-id-1 div.sk-serial::before {content: \"\";position: absolute;border-left: 1px solid gray;box-sizing: border-box;top: 0;bottom: 0;left: 50%;z-index: 0;}#sk-container-id-1 div.sk-serial {display: flex;flex-direction: column;align-items: center;background-color: white;padding-right: 0.2em;padding-left: 0.2em;position: relative;}#sk-container-id-1 div.sk-item {position: relative;z-index: 1;}#sk-container-id-1 div.sk-parallel {display: flex;align-items: stretch;justify-content: center;background-color: white;position: relative;}#sk-container-id-1 div.sk-item::before, #sk-container-id-1 div.sk-parallel-item::before {content: \"\";position: absolute;border-left: 1px solid gray;box-sizing: border-box;top: 0;bottom: 0;left: 50%;z-index: -1;}#sk-container-id-1 div.sk-parallel-item {display: flex;flex-direction: column;z-index: 1;position: relative;background-color: white;}#sk-container-id-1 div.sk-parallel-item:first-child::after {align-self: flex-end;width: 50%;}#sk-container-id-1 div.sk-parallel-item:last-child::after {align-self: flex-start;width: 50%;}#sk-container-id-1 div.sk-parallel-item:only-child::after {width: 0;}#sk-container-id-1 div.sk-dashed-wrapped {border: 1px dashed gray;margin: 0 0.4em 0.5em 0.4em;box-sizing: border-box;padding-bottom: 0.4em;background-color: white;}#sk-container-id-1 div.sk-label label {font-family: monospace;font-weight: bold;display: inline-block;line-height: 1.2em;}#sk-container-id-1 div.sk-label-container {text-align: center;}#sk-container-id-1 div.sk-container {/* jupyter's `normalize.less` sets `[hidden] { display: none; }` but bootstrap.min.css set `[hidden] { display: none !important; }` so we also need the `!important` here to be able to override the default hidden behavior on the sphinx rendered scikit-learn.org. See: https://github.com/scikit-learn/scikit-learn/issues/21755 */display: inline-block !important;position: relative;}#sk-container-id-1 div.sk-text-repr-fallback {display: none;}</style><div id=\"sk-container-id-1\" class=\"sk-top-container\"><div class=\"sk-text-repr-fallback\"><pre>LogisticRegression()</pre><b>In a Jupyter environment, please rerun this cell to show the HTML representation or trust the notebook. <br />On GitHub, the HTML representation is unable to render, please try loading this page with nbviewer.org.</b></div><div class=\"sk-container\" hidden><div class=\"sk-item\"><div class=\"sk-estimator sk-toggleable\"><input class=\"sk-toggleable__control sk-hidden--visually\" id=\"sk-estimator-id-1\" type=\"checkbox\" checked><label for=\"sk-estimator-id-1\" class=\"sk-toggleable__label sk-toggleable__label-arrow\">LogisticRegression</label><div class=\"sk-toggleable__content\"><pre>LogisticRegression()</pre></div></div></div></div></div>"
            ]
          },
          "metadata": {},
          "execution_count": 7
        }
      ]
    },
    {
      "cell_type": "code",
      "source": [
        "model_prob = model.predict_proba(X_test)"
      ],
      "metadata": {
        "id": "3ckeEQPk-Ud1"
      },
      "execution_count": null,
      "outputs": []
    },
    {
      "cell_type": "code",
      "source": [
        "model_prob"
      ],
      "metadata": {
        "colab": {
          "base_uri": "https://localhost:8080/"
        },
        "collapsed": true,
        "id": "MGcqJWFiVv_l",
        "outputId": "cad06e3a-87af-47fc-d773-b092de5a9155"
      },
      "execution_count": null,
      "outputs": [
        {
          "output_type": "execute_result",
          "data": {
            "text/plain": [
              "array([[9.58372415e-04, 9.99041628e-01],\n",
              "       [9.03115128e-01, 9.68848723e-02],\n",
              "       [5.10856077e-01, 4.89143923e-01],\n",
              "       [1.89954652e-01, 8.10045348e-01],\n",
              "       [8.87464987e-01, 1.12535013e-01],\n",
              "       [5.60264984e-01, 4.39735016e-01],\n",
              "       [1.70482761e-01, 8.29517239e-01],\n",
              "       [2.86383139e-01, 7.13616861e-01],\n",
              "       [1.12335830e-01, 8.87664170e-01],\n",
              "       [1.32031856e-01, 8.67968144e-01],\n",
              "       [9.99456382e-01, 5.43617813e-04],\n",
              "       [1.68869948e-01, 8.31130052e-01],\n",
              "       [8.08974906e-01, 1.91025094e-01],\n",
              "       [4.60945449e-01, 5.39054551e-01],\n",
              "       [2.72160055e-01, 7.27839945e-01],\n",
              "       [1.76358744e-01, 8.23641256e-01],\n",
              "       [6.14806190e-02, 9.38519381e-01],\n",
              "       [3.61787582e-01, 6.38212418e-01],\n",
              "       [8.89918555e-01, 1.10081445e-01],\n",
              "       [7.58820769e-01, 2.41179231e-01],\n",
              "       [9.88419575e-01, 1.15804251e-02],\n",
              "       [5.09977957e-01, 4.90022043e-01],\n",
              "       [1.11824236e-01, 8.88175764e-01],\n",
              "       [2.05065857e-03, 9.97949341e-01],\n",
              "       [8.63085252e-01, 1.36914748e-01],\n",
              "       [9.86750926e-01, 1.32490741e-02],\n",
              "       [3.55054502e-01, 6.44945498e-01],\n",
              "       [3.04379337e-02, 9.69562066e-01],\n",
              "       [9.60141744e-01, 3.98582561e-02],\n",
              "       [9.76194380e-01, 2.38056200e-02],\n",
              "       [6.30333309e-01, 3.69666691e-01],\n",
              "       [9.65986199e-01, 3.40138006e-02],\n",
              "       [7.70335430e-01, 2.29664570e-01],\n",
              "       [4.29278100e-02, 9.57072190e-01],\n",
              "       [4.55293281e-01, 5.44706719e-01],\n",
              "       [3.43257381e-01, 6.56742619e-01],\n",
              "       [9.84802477e-01, 1.51975226e-02],\n",
              "       [9.70670475e-01, 2.93295247e-02],\n",
              "       [2.19612676e-01, 7.80387324e-01],\n",
              "       [9.70130660e-01, 2.98693396e-02],\n",
              "       [7.15979347e-02, 9.28402065e-01],\n",
              "       [1.56566314e-01, 8.43433686e-01],\n",
              "       [9.84003732e-01, 1.59962678e-02],\n",
              "       [9.99422160e-01, 5.77840462e-04],\n",
              "       [9.33915865e-01, 6.60841352e-02],\n",
              "       [9.33085668e-01, 6.69143319e-02],\n",
              "       [2.04906228e-03, 9.97950938e-01],\n",
              "       [3.44204989e-01, 6.55795011e-01],\n",
              "       [1.06106594e-01, 8.93893406e-01],\n",
              "       [9.39405957e-01, 6.05940430e-02],\n",
              "       [9.78966742e-01, 2.10332584e-02],\n",
              "       [9.67645711e-01, 3.23542888e-02],\n",
              "       [8.96656711e-01, 1.03343289e-01],\n",
              "       [9.45643914e-01, 5.43560862e-02],\n",
              "       [4.35399858e-01, 5.64600142e-01],\n",
              "       [1.29591251e-02, 9.87040875e-01],\n",
              "       [7.14245069e-02, 9.28575493e-01],\n",
              "       [6.75554931e-01, 3.24445069e-01],\n",
              "       [9.27821253e-02, 9.07217875e-01],\n",
              "       [5.57923585e-01, 4.42076415e-01],\n",
              "       [9.79496272e-01, 2.05037275e-02],\n",
              "       [9.85013838e-01, 1.49861618e-02],\n",
              "       [9.94323332e-01, 5.67666781e-03],\n",
              "       [7.62014210e-03, 9.92379858e-01],\n",
              "       [7.83498619e-01, 2.16501381e-01],\n",
              "       [2.24976489e-01, 7.75023511e-01],\n",
              "       [2.77055142e-01, 7.22944858e-01],\n",
              "       [2.89505783e-02, 9.71049422e-01],\n",
              "       [5.17988395e-02, 9.48201161e-01],\n",
              "       [9.33191089e-01, 6.68089110e-02],\n",
              "       [5.05488286e-01, 4.94511714e-01],\n",
              "       [8.52222775e-02, 9.14777722e-01],\n",
              "       [2.76536755e-01, 7.23463245e-01],\n",
              "       [9.97065584e-01, 2.93441638e-03],\n",
              "       [9.09454835e-01, 9.05451646e-02],\n",
              "       [9.04036087e-01, 9.59639134e-02],\n",
              "       [8.77164421e-01, 1.22835579e-01],\n",
              "       [1.91380020e-01, 8.08619980e-01],\n",
              "       [9.89055099e-01, 1.09449011e-02],\n",
              "       [9.97409218e-01, 2.59078167e-03],\n",
              "       [5.53552846e-01, 4.46447154e-01],\n",
              "       [5.49159110e-01, 4.50840890e-01],\n",
              "       [5.01911945e-01, 4.98088055e-01],\n",
              "       [3.55173788e-01, 6.44826212e-01],\n",
              "       [9.55422633e-01, 4.45773668e-02],\n",
              "       [9.35260971e-01, 6.47390285e-02],\n",
              "       [5.44550521e-03, 9.94554495e-01],\n",
              "       [4.21922415e-02, 9.57807758e-01],\n",
              "       [2.10816003e-03, 9.97891840e-01],\n",
              "       [2.52025520e-01, 7.47974480e-01],\n",
              "       [4.68919466e-02, 9.53108053e-01],\n",
              "       [4.02682801e-04, 9.99597317e-01],\n",
              "       [1.93619286e-01, 8.06380714e-01],\n",
              "       [2.52367639e-01, 7.47632361e-01],\n",
              "       [6.68125882e-01, 3.31874118e-01],\n",
              "       [1.20828964e-01, 8.79171036e-01],\n",
              "       [6.11758342e-02, 9.38824166e-01],\n",
              "       [2.61408497e-04, 9.99738592e-01],\n",
              "       [7.44535010e-02, 9.25546499e-01],\n",
              "       [9.35800502e-01, 6.41994982e-02],\n",
              "       [9.39944663e-01, 6.00553366e-02],\n",
              "       [5.39688930e-02, 9.46031107e-01],\n",
              "       [9.40862670e-01, 5.91373303e-02],\n",
              "       [2.47464874e-01, 7.52535126e-01],\n",
              "       [5.73542296e-01, 4.26457704e-01],\n",
              "       [8.57817070e-01, 1.42182930e-01],\n",
              "       [5.75771116e-01, 4.24228884e-01],\n",
              "       [1.22282237e-02, 9.87771776e-01],\n",
              "       [6.90521911e-01, 3.09478089e-01],\n",
              "       [3.25477539e-01, 6.74522461e-01],\n",
              "       [3.53124714e-03, 9.96468753e-01],\n",
              "       [9.64360338e-01, 3.56396621e-02],\n",
              "       [9.94643617e-02, 9.00535638e-01],\n",
              "       [3.01888578e-03, 9.96981114e-01],\n",
              "       [8.88418602e-01, 1.11581398e-01],\n",
              "       [1.61649652e-01, 8.38350348e-01],\n",
              "       [5.15043984e-01, 4.84956016e-01],\n",
              "       [6.93422523e-01, 3.06577477e-01],\n",
              "       [9.53570401e-01, 4.64295993e-02],\n",
              "       [7.89191752e-01, 2.10808248e-01],\n",
              "       [5.30898663e-01, 4.69101337e-01],\n",
              "       [8.77554308e-01, 1.22445692e-01],\n",
              "       [1.05310078e-01, 8.94689922e-01],\n",
              "       [3.13220907e-01, 6.86779093e-01],\n",
              "       [8.62331768e-01, 1.37668232e-01],\n",
              "       [8.88360506e-01, 1.11639494e-01],\n",
              "       [6.94468005e-02, 9.30553200e-01],\n",
              "       [7.17743139e-01, 2.82256861e-01],\n",
              "       [4.00146193e-01, 5.99853807e-01],\n",
              "       [9.46017206e-01, 5.39827942e-02],\n",
              "       [3.73199817e-01, 6.26800183e-01],\n",
              "       [9.83969194e-01, 1.60308062e-02],\n",
              "       [1.93740538e-03, 9.98062595e-01],\n",
              "       [2.16881207e-01, 7.83118793e-01],\n",
              "       [9.28838161e-01, 7.11618394e-02],\n",
              "       [9.44216493e-01, 5.57835065e-02],\n",
              "       [6.05885403e-01, 3.94114597e-01],\n",
              "       [2.05236044e-01, 7.94763956e-01],\n",
              "       [4.88841230e-01, 5.11158770e-01],\n",
              "       [4.52911265e-04, 9.99547089e-01],\n",
              "       [2.44760613e-01, 7.55239387e-01],\n",
              "       [7.89640197e-01, 2.10359803e-01],\n",
              "       [1.28225810e-01, 8.71774190e-01],\n",
              "       [2.35938881e-01, 7.64061119e-01],\n",
              "       [9.16993057e-01, 8.30069425e-02],\n",
              "       [2.03522359e-01, 7.96477641e-01],\n",
              "       [7.36375043e-01, 2.63624957e-01],\n",
              "       [1.14306553e-03, 9.98856934e-01],\n",
              "       [1.61966570e-01, 8.38033430e-01],\n",
              "       [7.26988865e-02, 9.27301113e-01],\n",
              "       [9.40498539e-01, 5.95014611e-02],\n",
              "       [2.78379832e-01, 7.21620168e-01],\n",
              "       [1.73484898e-01, 8.26515102e-01],\n",
              "       [6.12798759e-02, 9.38720124e-01],\n",
              "       [8.30187188e-01, 1.69812812e-01],\n",
              "       [9.76254736e-01, 2.37452642e-02],\n",
              "       [5.03758922e-01, 4.96241078e-01],\n",
              "       [9.42230116e-01, 5.77698837e-02],\n",
              "       [9.93251661e-01, 6.74833884e-03],\n",
              "       [4.04504367e-01, 5.95495633e-01],\n",
              "       [1.70055265e-01, 8.29944735e-01],\n",
              "       [1.31292242e-01, 8.68707758e-01],\n",
              "       [6.74938489e-01, 3.25061511e-01],\n",
              "       [2.36134785e-01, 7.63865215e-01],\n",
              "       [8.74089964e-01, 1.25910036e-01],\n",
              "       [9.57117728e-01, 4.28822719e-02],\n",
              "       [9.39795271e-01, 6.02047294e-02],\n",
              "       [8.01249139e-01, 1.98750861e-01],\n",
              "       [2.50787093e-01, 7.49212907e-01],\n",
              "       [2.41483218e-01, 7.58516782e-01],\n",
              "       [6.15465282e-01, 3.84534718e-01],\n",
              "       [1.61160302e-02, 9.83883970e-01],\n",
              "       [9.97212450e-01, 2.78754956e-03],\n",
              "       [2.64953645e-01, 7.35046355e-01],\n",
              "       [1.98705988e-02, 9.80129401e-01],\n",
              "       [8.95096283e-02, 9.10490372e-01],\n",
              "       [9.98952408e-01, 1.04759245e-03],\n",
              "       [4.57501346e-02, 9.54249865e-01],\n",
              "       [4.46835678e-02, 9.55316432e-01],\n",
              "       [7.63242472e-02, 9.23675753e-01],\n",
              "       [5.95320288e-02, 9.40467971e-01],\n",
              "       [5.64805559e-01, 4.35194441e-01],\n",
              "       [1.15763646e-01, 8.84236354e-01],\n",
              "       [9.32719206e-01, 6.72807942e-02],\n",
              "       [7.93844990e-01, 2.06155010e-01],\n",
              "       [9.84159134e-01, 1.58408656e-02],\n",
              "       [9.51675187e-01, 4.83248134e-02],\n",
              "       [3.69596105e-02, 9.63040390e-01],\n",
              "       [1.35859134e-01, 8.64140866e-01],\n",
              "       [6.98615519e-01, 3.01384481e-01],\n",
              "       [3.83187196e-01, 6.16812804e-01],\n",
              "       [9.52481098e-01, 4.75189017e-02],\n",
              "       [6.27363470e-02, 9.37263653e-01],\n",
              "       [6.37129226e-02, 9.36287077e-01],\n",
              "       [1.66511803e-01, 8.33488197e-01],\n",
              "       [1.18149683e-01, 8.81850317e-01],\n",
              "       [9.26123754e-01, 7.38762460e-02],\n",
              "       [9.86361039e-01, 1.36389612e-02],\n",
              "       [6.87175639e-01, 3.12824361e-01],\n",
              "       [9.79093266e-01, 2.09067339e-02],\n",
              "       [1.36204306e-02, 9.86379569e-01],\n",
              "       [7.94028070e-02, 9.20597193e-01],\n",
              "       [4.94893855e-01, 5.05106145e-01],\n",
              "       [6.09484625e-01, 3.90515375e-01],\n",
              "       [2.82425594e-02, 9.71757441e-01],\n",
              "       [4.85851249e-01, 5.14148751e-01],\n",
              "       [2.31459893e-02, 9.76854011e-01],\n",
              "       [9.21967400e-01, 7.80326003e-02],\n",
              "       [9.57988335e-01, 4.20116649e-02],\n",
              "       [7.68512626e-01, 2.31487374e-01],\n",
              "       [2.20558538e-02, 9.77944146e-01],\n",
              "       [6.65916786e-01, 3.34083214e-01],\n",
              "       [1.75633985e-01, 8.24366015e-01],\n",
              "       [1.33268913e-01, 8.66731087e-01],\n",
              "       [9.51680624e-01, 4.83193759e-02],\n",
              "       [6.04205591e-01, 3.95794409e-01],\n",
              "       [7.92777384e-01, 2.07222616e-01],\n",
              "       [2.85120697e-01, 7.14879303e-01],\n",
              "       [8.59093663e-01, 1.40906337e-01],\n",
              "       [7.94049831e-01, 2.05950169e-01],\n",
              "       [2.83878520e-01, 7.16121480e-01],\n",
              "       [9.67879188e-01, 3.21208125e-02],\n",
              "       [1.37377536e-02, 9.86262246e-01],\n",
              "       [9.73182536e-01, 2.68174639e-02],\n",
              "       [7.16478777e-02, 9.28352122e-01],\n",
              "       [8.57271679e-01, 1.42728321e-01],\n",
              "       [2.61070020e-01, 7.38929980e-01],\n",
              "       [2.23967703e-02, 9.77603230e-01],\n",
              "       [2.36704944e-01, 7.63295056e-01],\n",
              "       [9.35461583e-01, 6.45384174e-02],\n",
              "       [9.71705640e-01, 2.82943595e-02],\n",
              "       [9.30128818e-01, 6.98711816e-02],\n",
              "       [1.42295561e-01, 8.57704439e-01],\n",
              "       [3.44667288e-01, 6.55332712e-01],\n",
              "       [8.24469135e-02, 9.17553086e-01],\n",
              "       [9.95981533e-01, 4.01846729e-03],\n",
              "       [9.66513376e-01, 3.34866235e-02],\n",
              "       [9.47688164e-01, 5.23118363e-02],\n",
              "       [4.97650350e-03, 9.95023496e-01],\n",
              "       [9.09619843e-01, 9.03801569e-02],\n",
              "       [1.14267055e-01, 8.85732945e-01],\n",
              "       [1.71321859e-01, 8.28678141e-01],\n",
              "       [9.70336330e-01, 2.96636697e-02],\n",
              "       [1.47218589e-01, 8.52781411e-01],\n",
              "       [8.25912712e-03, 9.91740873e-01],\n",
              "       [9.62715105e-01, 3.72848954e-02],\n",
              "       [4.42038744e-01, 5.57961256e-01],\n",
              "       [5.46410819e-02, 9.45358918e-01],\n",
              "       [1.89443073e-01, 8.10556927e-01],\n",
              "       [9.50783274e-01, 4.92167264e-02]])"
            ]
          },
          "metadata": {},
          "execution_count": 35
        }
      ]
    },
    {
      "cell_type": "code",
      "source": [
        "model_prob=model_prob[:,1]"
      ],
      "metadata": {
        "id": "IT3ZVzLgVWjj"
      },
      "execution_count": null,
      "outputs": []
    },
    {
      "cell_type": "code",
      "source": [
        "model_prob"
      ],
      "metadata": {
        "colab": {
          "base_uri": "https://localhost:8080/"
        },
        "collapsed": true,
        "id": "ntLflwpEVbTd",
        "outputId": "f017e8c7-a3e2-4f32-fcb8-38b08601c838"
      },
      "execution_count": null,
      "outputs": [
        {
          "output_type": "execute_result",
          "data": {
            "text/plain": [
              "array([9.99041628e-01, 9.68848723e-02, 4.89143923e-01, 8.10045348e-01,\n",
              "       1.12535013e-01, 4.39735016e-01, 8.29517239e-01, 7.13616861e-01,\n",
              "       8.87664170e-01, 8.67968144e-01, 5.43617813e-04, 8.31130052e-01,\n",
              "       1.91025094e-01, 5.39054551e-01, 7.27839945e-01, 8.23641256e-01,\n",
              "       9.38519381e-01, 6.38212418e-01, 1.10081445e-01, 2.41179231e-01,\n",
              "       1.15804251e-02, 4.90022043e-01, 8.88175764e-01, 9.97949341e-01,\n",
              "       1.36914748e-01, 1.32490741e-02, 6.44945498e-01, 9.69562066e-01,\n",
              "       3.98582561e-02, 2.38056200e-02, 3.69666691e-01, 3.40138006e-02,\n",
              "       2.29664570e-01, 9.57072190e-01, 5.44706719e-01, 6.56742619e-01,\n",
              "       1.51975226e-02, 2.93295247e-02, 7.80387324e-01, 2.98693396e-02,\n",
              "       9.28402065e-01, 8.43433686e-01, 1.59962678e-02, 5.77840462e-04,\n",
              "       6.60841352e-02, 6.69143319e-02, 9.97950938e-01, 6.55795011e-01,\n",
              "       8.93893406e-01, 6.05940430e-02, 2.10332584e-02, 3.23542888e-02,\n",
              "       1.03343289e-01, 5.43560862e-02, 5.64600142e-01, 9.87040875e-01,\n",
              "       9.28575493e-01, 3.24445069e-01, 9.07217875e-01, 4.42076415e-01,\n",
              "       2.05037275e-02, 1.49861618e-02, 5.67666781e-03, 9.92379858e-01,\n",
              "       2.16501381e-01, 7.75023511e-01, 7.22944858e-01, 9.71049422e-01,\n",
              "       9.48201161e-01, 6.68089110e-02, 4.94511714e-01, 9.14777722e-01,\n",
              "       7.23463245e-01, 2.93441638e-03, 9.05451646e-02, 9.59639134e-02,\n",
              "       1.22835579e-01, 8.08619980e-01, 1.09449011e-02, 2.59078167e-03,\n",
              "       4.46447154e-01, 4.50840890e-01, 4.98088055e-01, 6.44826212e-01,\n",
              "       4.45773668e-02, 6.47390285e-02, 9.94554495e-01, 9.57807758e-01,\n",
              "       9.97891840e-01, 7.47974480e-01, 9.53108053e-01, 9.99597317e-01,\n",
              "       8.06380714e-01, 7.47632361e-01, 3.31874118e-01, 8.79171036e-01,\n",
              "       9.38824166e-01, 9.99738592e-01, 9.25546499e-01, 6.41994982e-02,\n",
              "       6.00553366e-02, 9.46031107e-01, 5.91373303e-02, 7.52535126e-01,\n",
              "       4.26457704e-01, 1.42182930e-01, 4.24228884e-01, 9.87771776e-01,\n",
              "       3.09478089e-01, 6.74522461e-01, 9.96468753e-01, 3.56396621e-02,\n",
              "       9.00535638e-01, 9.96981114e-01, 1.11581398e-01, 8.38350348e-01,\n",
              "       4.84956016e-01, 3.06577477e-01, 4.64295993e-02, 2.10808248e-01,\n",
              "       4.69101337e-01, 1.22445692e-01, 8.94689922e-01, 6.86779093e-01,\n",
              "       1.37668232e-01, 1.11639494e-01, 9.30553200e-01, 2.82256861e-01,\n",
              "       5.99853807e-01, 5.39827942e-02, 6.26800183e-01, 1.60308062e-02,\n",
              "       9.98062595e-01, 7.83118793e-01, 7.11618394e-02, 5.57835065e-02,\n",
              "       3.94114597e-01, 7.94763956e-01, 5.11158770e-01, 9.99547089e-01,\n",
              "       7.55239387e-01, 2.10359803e-01, 8.71774190e-01, 7.64061119e-01,\n",
              "       8.30069425e-02, 7.96477641e-01, 2.63624957e-01, 9.98856934e-01,\n",
              "       8.38033430e-01, 9.27301113e-01, 5.95014611e-02, 7.21620168e-01,\n",
              "       8.26515102e-01, 9.38720124e-01, 1.69812812e-01, 2.37452642e-02,\n",
              "       4.96241078e-01, 5.77698837e-02, 6.74833884e-03, 5.95495633e-01,\n",
              "       8.29944735e-01, 8.68707758e-01, 3.25061511e-01, 7.63865215e-01,\n",
              "       1.25910036e-01, 4.28822719e-02, 6.02047294e-02, 1.98750861e-01,\n",
              "       7.49212907e-01, 7.58516782e-01, 3.84534718e-01, 9.83883970e-01,\n",
              "       2.78754956e-03, 7.35046355e-01, 9.80129401e-01, 9.10490372e-01,\n",
              "       1.04759245e-03, 9.54249865e-01, 9.55316432e-01, 9.23675753e-01,\n",
              "       9.40467971e-01, 4.35194441e-01, 8.84236354e-01, 6.72807942e-02,\n",
              "       2.06155010e-01, 1.58408656e-02, 4.83248134e-02, 9.63040390e-01,\n",
              "       8.64140866e-01, 3.01384481e-01, 6.16812804e-01, 4.75189017e-02,\n",
              "       9.37263653e-01, 9.36287077e-01, 8.33488197e-01, 8.81850317e-01,\n",
              "       7.38762460e-02, 1.36389612e-02, 3.12824361e-01, 2.09067339e-02,\n",
              "       9.86379569e-01, 9.20597193e-01, 5.05106145e-01, 3.90515375e-01,\n",
              "       9.71757441e-01, 5.14148751e-01, 9.76854011e-01, 7.80326003e-02,\n",
              "       4.20116649e-02, 2.31487374e-01, 9.77944146e-01, 3.34083214e-01,\n",
              "       8.24366015e-01, 8.66731087e-01, 4.83193759e-02, 3.95794409e-01,\n",
              "       2.07222616e-01, 7.14879303e-01, 1.40906337e-01, 2.05950169e-01,\n",
              "       7.16121480e-01, 3.21208125e-02, 9.86262246e-01, 2.68174639e-02,\n",
              "       9.28352122e-01, 1.42728321e-01, 7.38929980e-01, 9.77603230e-01,\n",
              "       7.63295056e-01, 6.45384174e-02, 2.82943595e-02, 6.98711816e-02,\n",
              "       8.57704439e-01, 6.55332712e-01, 9.17553086e-01, 4.01846729e-03,\n",
              "       3.34866235e-02, 5.23118363e-02, 9.95023496e-01, 9.03801569e-02,\n",
              "       8.85732945e-01, 8.28678141e-01, 2.96636697e-02, 8.52781411e-01,\n",
              "       9.91740873e-01, 3.72848954e-02, 5.57961256e-01, 9.45358918e-01,\n",
              "       8.10556927e-01, 4.92167264e-02])"
            ]
          },
          "metadata": {},
          "execution_count": 37
        }
      ]
    },
    {
      "cell_type": "markdown",
      "source": [
        "#calculationg ROC_AUC"
      ],
      "metadata": {
        "id": "a1HX8qrUV7fp"
      }
    },
    {
      "cell_type": "code",
      "source": [
        "np.size(y_test)"
      ],
      "metadata": {
        "colab": {
          "base_uri": "https://localhost:8080/"
        },
        "id": "H4FkAuvSWpkt",
        "outputId": "9c91d4b4-8d3d-4e3f-9335-4c2bb4cc8ba1"
      },
      "execution_count": null,
      "outputs": [
        {
          "output_type": "execute_result",
          "data": {
            "text/plain": [
              "250"
            ]
          },
          "metadata": {},
          "execution_count": 21
        }
      ]
    },
    {
      "cell_type": "code",
      "source": [
        "np.shape(y_test)"
      ],
      "metadata": {
        "colab": {
          "base_uri": "https://localhost:8080/"
        },
        "id": "YDR4QwFLWsXX",
        "outputId": "fef2e3d6-8c88-4760-80a4-ccdd824c34fb"
      },
      "execution_count": null,
      "outputs": [
        {
          "output_type": "execute_result",
          "data": {
            "text/plain": [
              "(250,)"
            ]
          },
          "metadata": {},
          "execution_count": 22
        }
      ]
    },
    {
      "cell_type": "code",
      "source": [
        "np.shape(X_test)"
      ],
      "metadata": {
        "colab": {
          "base_uri": "https://localhost:8080/"
        },
        "id": "tV0xzSP1Ww_M",
        "outputId": "c65df8ac-9d17-49a0-b37a-b38f6b7edc29"
      },
      "execution_count": null,
      "outputs": [
        {
          "output_type": "execute_result",
          "data": {
            "text/plain": [
              "(250, 20)"
            ]
          },
          "metadata": {},
          "execution_count": 23
        }
      ]
    },
    {
      "cell_type": "code",
      "source": [
        "d1_model_auc = roc_auc_score(y_test,d1_prob)\n",
        "\n",
        "#model_auc = roc_auc_score(y_test,model_prob)"
      ],
      "metadata": {
        "id": "5ROZc09IVjHT"
      },
      "execution_count": null,
      "outputs": []
    },
    {
      "cell_type": "code",
      "source": [
        "print(d1_model_auc)"
      ],
      "metadata": {
        "colab": {
          "base_uri": "https://localhost:8080/"
        },
        "id": "BPF2LufWWPGX",
        "outputId": "7ce77ed6-6570-47da-a81f-fa57be9dc063"
      },
      "execution_count": null,
      "outputs": [
        {
          "output_type": "stream",
          "name": "stdout",
          "text": [
            "0.5\n"
          ]
        }
      ]
    },
    {
      "cell_type": "code",
      "source": [
        "model_auc = roc_auc_score(y_test,model_prob)"
      ],
      "metadata": {
        "id": "xwXWa7T9W_AK"
      },
      "execution_count": null,
      "outputs": []
    },
    {
      "cell_type": "code",
      "source": [
        "print(model_auc)"
      ],
      "metadata": {
        "colab": {
          "base_uri": "https://localhost:8080/"
        },
        "id": "ZXNvguRAXJsN",
        "outputId": "69c2b29b-b4f7-4893-8404-6a42f718b7de"
      },
      "execution_count": null,
      "outputs": [
        {
          "output_type": "stream",
          "name": "stdout",
          "text": [
            "0.9108885464817668\n"
          ]
        }
      ]
    },
    {
      "cell_type": "markdown",
      "source": [
        "#calculating the ROC curves"
      ],
      "metadata": {
        "id": "RPayzuPYYr_j"
      }
    },
    {
      "cell_type": "code",
      "source": [
        "dummy_f , dummy_t , _ = roc_curve(y_test,d1_prob)\n",
        "\n",
        "model_f , model_t , thresholds = roc_curve(y_test,model_prob)"
      ],
      "metadata": {
        "id": "5X9ROLeBYaZF"
      },
      "execution_count": null,
      "outputs": []
    },
    {
      "cell_type": "code",
      "source": [
        "thresholds"
      ],
      "metadata": {
        "colab": {
          "base_uri": "https://localhost:8080/"
        },
        "id": "NGgNyZxjag34",
        "outputId": "5bd7b444-a069-45da-d924-ee7c6d38b153"
      },
      "execution_count": null,
      "outputs": [
        {
          "output_type": "execute_result",
          "data": {
            "text/plain": [
              "array([           inf, 9.99738592e-01, 9.87040875e-01, 9.86379569e-01,\n",
              "       9.57807758e-01, 9.57072190e-01, 9.45358918e-01, 9.40467971e-01,\n",
              "       9.28352122e-01, 9.27301113e-01, 9.25546499e-01, 9.23675753e-01,\n",
              "       8.94689922e-01, 8.93893406e-01, 8.43433686e-01, 8.38350348e-01,\n",
              "       8.28678141e-01, 8.26515102e-01, 8.08619980e-01, 8.06380714e-01,\n",
              "       7.80387324e-01, 7.64061119e-01, 7.63865215e-01, 7.63295056e-01,\n",
              "       7.58516782e-01, 7.55239387e-01, 7.52535126e-01, 7.47974480e-01,\n",
              "       7.23463245e-01, 7.22944858e-01, 6.74522461e-01, 6.56742619e-01,\n",
              "       6.55332712e-01, 6.26800183e-01, 5.99853807e-01, 5.57961256e-01,\n",
              "       5.39054551e-01, 5.14148751e-01, 5.05106145e-01, 4.96241078e-01,\n",
              "       4.90022043e-01, 4.84956016e-01, 4.69101337e-01, 4.50840890e-01,\n",
              "       4.46447154e-01, 4.39735016e-01, 4.24228884e-01, 3.24445069e-01,\n",
              "       3.12824361e-01, 3.06577477e-01, 3.01384481e-01, 2.10359803e-01,\n",
              "       2.06155010e-01, 1.91025094e-01, 1.69812812e-01, 1.42728321e-01,\n",
              "       1.42182930e-01, 9.03801569e-02, 8.30069425e-02, 7.80326003e-02,\n",
              "       7.11618394e-02, 5.43617813e-04])"
            ]
          },
          "metadata": {},
          "execution_count": 45
        }
      ]
    },
    {
      "cell_type": "markdown",
      "source": [
        "#Plot the curves"
      ],
      "metadata": {
        "id": "IVNH6v8OZbDh"
      }
    },
    {
      "cell_type": "code",
      "source": [
        "plt.plot(dummy_f,dummy_t , linestyle = '--', label = 'test models')\n",
        "plt.plot(model_f , model_t , marker = '.',label = 'Logistic')\n",
        "\n",
        "# axis labels\n",
        "plt.xlabel('False Positive Rate')\n",
        "plt.ylabel('True positive rate')\n",
        "\n",
        "plt.legend()\n",
        "\n",
        "plt.show()"
      ],
      "metadata": {
        "colab": {
          "base_uri": "https://localhost:8080/",
          "height": 449
        },
        "id": "SRFtIXvRY_q5",
        "outputId": "14ed297d-164d-4c26-832b-2f0c83afd8b7"
      },
      "execution_count": null,
      "outputs": [
        {
          "output_type": "display_data",
          "data": {
            "text/plain": [
              "<Figure size 640x480 with 1 Axes>"
            ],
            "image/png": "[encoded data removed]"
          },
          "metadata": {}
        }
      ]
    },
    {
      "cell_type": "code",
      "source": [
        "\n",
        "fig = plt.figure(figsize=(20,50))\n",
        "plt.plot(dummy_f,dummy_t , linestyle = '--', label = 'test models')\n",
        "plt.plot(model_f , model_t , marker = '.',label = 'Logistic')\n",
        "\n",
        "\n",
        "ax =fig.add_subplot(111)\n",
        "\n",
        "for xyz in zip(model_f , model_t , thresholds):\n",
        "  ax.annotate('%s'%np.round(xyz[2],2), xy=(xyz[0],xyz[1]))\n",
        "# axis labels\n",
        "plt.xlabel('False Positive Rate')\n",
        "plt.ylabel('True positive rate')\n",
        "\n",
        "plt.legend()\n",
        "\n",
        "plt.show()"
      ],
      "metadata": {
        "colab": {
          "base_uri": "https://localhost:8080/",
          "height": 1000
        },
        "id": "7ImRiY7-ZdAS",
        "outputId": "07a54fbb-0e7b-4671-d633-3ddeaedeab62"
      },
      "execution_count": null,
      "outputs": [
        {
          "output_type": "stream",
          "name": "stderr",
          "text": [
            "WARNING:matplotlib.legend:No artists with labels found to put in legend.  Note that artists whose label start with an underscore are ignored when legend() is called with no argument.\n"
          ]
        },
        {
          "output_type": "display_data",
          "data": {
            "text/plain": [
              "<Figure size 2000x5000 with 2 Axes>"
            ],
            "image/png": "[encoded data removed]"
          },
          "metadata": {}
        }
      ]
    },
    {
      "cell_type": "code",
      "source": [],
      "metadata": {
        "id": "fs4VTYFcbkPl"
      },
      "execution_count": null,
      "outputs": []
    }
  ]
}